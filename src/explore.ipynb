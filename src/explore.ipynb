{
    "cells": [
        {
            "cell_type": "markdown",
            "metadata": {},
            "source": [
                "# Explore here"
            ]
        },
        {
            "cell_type": "code",
            "execution_count": 3,
            "metadata": {},
            "outputs": [
                {
                    "name": "stdout",
                    "output_type": "stream",
                    "text": [
                        "286d12dba9414bc2a9a7ff4ac4be8e06 8e4de5e04e224c3fbcaae51d00ec013e\n"
                    ]
                }
            ],
            "source": [
                "import os\n",
                "import pandas as pd\n",
                "from dotenv import load_dotenv\n",
                "\n",
                "# load the .env file variables\n",
                "load_dotenv()\n",
                "\n",
                "#Access the variables\n",
                "client_id = os.environ.get(\"CLIENT_ID\")\n",
                "client_secret = os.environ.get(\"CLIENT_SECRET\")\n",
                "\n",
                "# Verify that the variables have been loaded correctly\n",
                "print(client_id, client_secret)\n"
            ]
        },
        {
            "cell_type": "code",
            "execution_count": 6,
            "metadata": {},
            "outputs": [],
            "source": [
                "#STEP 4\n",
                "import spotipy\n",
                "from spotipy.oauth2 import SpotifyClientCredentials\n",
                "\n",
                "spotify = spotipy.Spotify(auth_manager=SpotifyClientCredentials(client_id=client_id, client_secret=client_secret))\n",
                "\n"
            ]
        },
        {
            "cell_type": "code",
            "execution_count": 7,
            "metadata": {},
            "outputs": [
                {
                    "name": "stdout",
                    "output_type": "stream",
                    "text": [
                        "[{'track_name': 'Bendita Tu Luz', 'popularity': 56, 'duration': 4.43}, {'track_name': 'Bachata En Fukuoka', 'popularity': 71, 'duration': 3.19}, {'track_name': 'Las Avispas', 'popularity': 69, 'duration': 3.29}, {'track_name': 'La Bilirrubina', 'popularity': 70, 'duration': 4.09}, {'track_name': 'El Ultimo Adiós - Varios Artistas Version', 'popularity': 69, 'duration': 3.96}, {'track_name': 'Bachata Rosa', 'popularity': 69, 'duration': 4.28}, {'track_name': 'Mi Bendición', 'popularity': 67, 'duration': 3.14}, {'track_name': 'Burbujas de Amor', 'popularity': 67, 'duration': 4.18}, {'track_name': 'Vale la Pena', 'popularity': 66, 'duration': 3.46}, {'track_name': 'El Niágara en Bicicleta', 'popularity': 65, 'duration': 4.42}]\n"
                    ]
                }
            ],
            "source": [
                "#Step 5\n",
                "artist_id = \"3nlpTZci9O5W8RsNoNH559\"\n",
                "\n",
                "#search for tracks\n",
                "results = spotify.artist_top_tracks(artist_id)\n",
                "\n",
                "tracks_data = []\n",
                "for track in results['tracks'][:10]:\n",
                "    track_info = {\n",
                "        \"track_name\" : track['name'],\n",
                "        \"popularity\" :track['popularity'],\n",
                "        \"duration\" : round(track['duration_ms'] / 60000, 2)\n",
                "    }\n",
                "    tracks_data.append(track_info)\n",
                "print(tracks_data)"
            ]
        },
        {
            "cell_type": "code",
            "execution_count": 21,
            "metadata": {},
            "outputs": [
                {
                    "name": "stdout",
                    "output_type": "stream",
                    "text": [
                        "                                  track_name  popularity  duration\n",
                        "1                         Bachata En Fukuoka          71      3.19\n",
                        "3                             La Bilirrubina          70      4.09\n",
                        "4  El Ultimo Adiós - Varios Artistas Version          69      3.96\n"
                    ]
                }
            ],
            "source": [
                "#Step 6\n",
                "import pandas as pd\n",
                "df = pd.DataFrame(tracks_data)\n",
                "df_sort = df.sort_values(\"popularity\", ascending = False)\n",
                "print(df_sort.head(3))"
            ]
        },
        {
            "cell_type": "code",
            "execution_count": null,
            "metadata": {},
            "outputs": [
                {
                    "data": {
                        "image/png": "[encoded data removed]",
                        "text/plain": [
                            "<Figure size 800x500 with 1 Axes>"
                        ]
                    },
                    "metadata": {},
                    "output_type": "display_data"
                }
            ],
            "source": [
                "#Step7\n",
                "import matplotlib.pyplot as plt\n",
                "import seaborn as sns\n",
                "plt.figure(figsize = (8, 5))\n",
                "# Create the scatter plot with Seaborn\n",
                "sns.scatterplot(data=df_sort, x = \"popularity\", y = \"duration\")\n",
                "\n",
                "#Titles and labels\n",
                "plt.title(\"Gráfico de dispersión\")\n",
                "plt.xlabel(\"popularity\")\n",
                "plt.ylabel(\"duration\")\n",
                "\n",
                "#show de plot\n",
                "plt.show()\n"
            ]
        },
        {
            "cell_type": "code",
            "execution_count": null,
            "metadata": {},
            "outputs": [],
            "source": [
                "As can be seen, there is no direct relationship between the popularity and the duration of the songs."
            ]
        },
        {
            "cell_type": "code",
            "execution_count": null,
            "metadata": {},
            "outputs": [],
            "source": []
        }
    ],
    "metadata": {
        "kernelspec": {
            "display_name": "Python 3",
            "language": "python",
            "name": "python3"
        },
        "language_info": {
            "codemirror_mode": {
                "name": "ipython",
                "version": 3
            },
            "file_extension": ".py",
            "mimetype": "text/x-python",
            "name": "python",
            "nbconvert_exporter": "python",
            "pygments_lexer": "ipython3",
            "version": "3.11.4"
        },
        "orig_nbformat": 4
    },
    "nbformat": 4,
    "nbformat_minor": 2
}
